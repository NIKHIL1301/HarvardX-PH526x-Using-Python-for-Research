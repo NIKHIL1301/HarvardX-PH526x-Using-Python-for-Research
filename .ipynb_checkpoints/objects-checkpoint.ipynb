{
 "cells": [
  {
   "cell_type": "markdown",
   "metadata": {},
   "source": [
    "## Sequences\n",
    "* Access using bracket notation, either left-to-right (positive index, eg. S[2]) or right-to-left (negative index, eg. S[-3])\n",
    "* Support slicing (eg. S[0:2]"
   ]
  },
  {
   "cell_type": "markdown",
   "metadata": {},
   "source": [
    "## Lists\n",
    "* Mutable sequences of objects of any time\n",
    "* Used to store homogenous items"
   ]
  },
  {
   "cell_type": "code",
   "execution_count": 16,
   "metadata": {},
   "outputs": [
    {
     "name": "stdout",
     "output_type": "stream",
     "text": [
      "(0, 0)\n",
      "(1, 1)\n",
      "(2, 4)\n",
      "(4, 6)\n",
      "(8, 10)\n",
      "(12, 15)\n"
     ]
    },
    {
     "data": {
      "text/plain": [
       "False"
      ]
     },
     "execution_count": 16,
     "metadata": {},
     "output_type": "execute_result"
    }
   ],
   "source": [
    "# Lists\n",
    "numbers = [2,4,6,8]\n",
    "numbers[0] # => 2\n",
    "numbers[-1] # => 8\n",
    "numbers.append(10) # mutable, can modify content\n",
    "x = [12, 14, 16]\n",
    "numbers + x # concatenating lists\n",
    "type(_) # => returns most recent object type\n",
    "numbers.reverse() # => list methods work in place\n",
    "numbers # => numbers are now reversed\n",
    "names = ['Dan', 'Joe', 'Jimmy', 'Zany']\n",
    "names.sort()\n",
    "names # => names are now sorted alphabetically\n",
    "names.reverse() # => reverse order\n",
    "sorted_names = sorted(names) # => sorted creates a new sorted list\n",
    "len(names) # => returns length of names object"
   ]
  },
  {
   "cell_type": "markdown",
   "metadata": {},
   "source": [
    "## Tuples\n",
    "* immutable sequences used to store heterogenous data\n",
    "* many uses\n"
   ]
  },
  {
   "cell_type": "code",
   "execution_count": 18,
   "metadata": {},
   "outputs": [
    {
     "name": "stdout",
     "output_type": "stream",
     "text": [
      "(0, 0)\n",
      "(1, 1)\n",
      "(2, 4)\n",
      "(4, 6)\n",
      "(8, 10)\n",
      "(12, 15)\n"
     ]
    },
    {
     "data": {
      "text/plain": [
       "tuple"
      ]
     },
     "execution_count": 18,
     "metadata": {},
     "output_type": "execute_result"
    }
   ],
   "source": [
    "# Tuples\n",
    "T = (1,3,5,7) # => create using parenthesis\n",
    "len(T) # => len works the same as lists\n",
    "T + (9, 11) # => concatenation works the same too\n",
    "T[1] # => indices work the same too\n",
    "x = 12.23\n",
    "y = 23.34\n",
    "coordinate = (x,y) # => tuple packing\n",
    "type(coordinate) # => tuple\n",
    "c1, c2 = coordinate # => unpacking a tuple\n",
    "coordinates = [(0,0),(1,1),(2,4),(4,6),(8,10),(12,15)] \n",
    "for (x,y) in coordinates: # can use tuples in for loops\n",
    "    print(x,y)\n",
    "c = (2,3)\n",
    "type(c) # => tuple\n",
    "c = (2)\n",
    "type(c) # => int\n",
    "c = ((2,)) # => create a tuple with a single object\n",
    "type(c) # => tuple"
   ]
  },
  {
   "cell_type": "markdown",
   "metadata": {},
   "source": [
    "## Ranges\n",
    "* immutable sequences of integeres\n",
    "* commonly used on for loops"
   ]
  },
  {
   "cell_type": "code",
   "execution_count": 19,
   "metadata": {},
   "outputs": [
    {
     "data": {
      "text/plain": [
       "[1, 3, 5, 7, 9, 11]"
      ]
     },
     "execution_count": 19,
     "metadata": {},
     "output_type": "execute_result"
    }
   ],
   "source": [
    "# Ranges\n",
    "list(range(5)) # converts range into a list => [0, 1, 2, 3, 4]\n",
    "list(range(1,6)) # starts at 1 and ends at 5\n",
    "list(range(1,12,2)) # increments by 2\n",
    "# don't turn range objects into lists"
   ]
  },
  {
   "cell_type": "markdown",
   "metadata": {},
   "source": [
    "## Strings\n",
    "* immutable sequences of characters\n",
    "* enclose with single, double or triple quotes"
   ]
  },
  {
   "cell_type": "code",
   "execution_count": 20,
   "metadata": {},
   "outputs": [
    {
     "data": {
      "text/plain": [
       "<function lower>"
      ]
     },
     "execution_count": 20,
     "metadata": {},
     "output_type": "execute_result"
    }
   ],
   "source": [
    "# Strings\n",
    "S = \"Python\"\n",
    "len(S) # => 6\n",
    "\"y\" in S # => returns True\n",
    "\"hello \" + \"world\" # => \"hello world\" (concatenation)\n",
    "3 * S # => \"PythonPythonPython\"\n",
    "dir(str) # => list of string attributes\n",
    "# str.replace? # => returns documentation for this method\n",
    "name = \"Tina Fey\"\n",
    "name.replace(\"T\", \"t\") # => tina Fey\n",
    "names = name.split(' ')\n",
    "type(names[0])\n",
    "names[0].upper()\n",
    "names[1].lower"
   ]
  },
  {
   "cell_type": "markdown",
   "metadata": {},
   "source": [
    "## Sets\n",
    "* unordered collection of distinct hashable objects\n",
    "* two types: set (mutable) and frozen set (immutable)\n",
    "* cannot be indexed\n",
    "* elements cannot be duplicated"
   ]
  },
  {
   "cell_type": "code",
   "execution_count": 21,
   "metadata": {},
   "outputs": [
    {
     "data": {
      "text/plain": [
       "12"
      ]
     },
     "execution_count": 21,
     "metadata": {},
     "output_type": "execute_result"
    }
   ],
   "source": [
    "# Sets\n",
    "ids = set() # => creates empty set\n",
    "ids = set([0,1,2,3,4,5,6,7,8,9])\n",
    "len(ids) # => returns length of set\n",
    "ids.add(10) # => adds 10 to set\n",
    "ids.add(2) # => nothing happens\n",
    "ids.pop() # => removes arbitrary element\n",
    "males = set([1,2,3,4,5])\n",
    "females = ids - males # => assigns females to all of items except males\n",
    "everyone = males | females # => union of males and females\n",
    "everyone & set([1,2,3]) # => intersection \n",
    "word = \"antidisestablishmentarianism\"\n",
    "letters = set(word)\n",
    "len(letters) # => returns unique letters"
   ]
  },
  {
   "cell_type": "markdown",
   "metadata": {},
   "source": [
    "## Dictionaries\n",
    "* mappings of key objects to value objects\n",
    "* keys must be immutable, values are mutable\n",
    "* dictionaries are mutable\n",
    "* quick lookups for unordered data (do not maintain order)"
   ]
  },
  {
   "cell_type": "code",
   "execution_count": 22,
   "metadata": {},
   "outputs": [
    {
     "data": {
      "text/plain": [
       "False"
      ]
     },
     "execution_count": 22,
     "metadata": {},
     "output_type": "execute_result"
    }
   ],
   "source": [
    "# Dictionaries\n",
    "age = {} # => empty dictionary\n",
    "age = dict() # => empty dictionary\n",
    "age = {\"Tim\": 29, \"Jeff\": 30, \"Jim\" :18}\n",
    "age['Tim'] # => returns 29\n",
    "age['Tim'] += 1\n",
    "age.keys # => returns a view object with keys\n",
    "names = age.keys \n",
    "type(names) # => dict_keys\n",
    "age.values # => returns a view object with values\n",
    "ages = age.values()\n",
    "'Tim' in age # => True \n",
    "'Sophia' in age # => False"
   ]
  },
  {
   "cell_type": "code",
   "execution_count": null,
   "metadata": {
    "collapsed": true
   },
   "outputs": [],
   "source": []
  }
 ],
 "metadata": {
  "kernelspec": {
   "display_name": "Python 2",
   "language": "python",
   "name": "python2"
  },
  "language_info": {
   "codemirror_mode": {
    "name": "ipython",
    "version": 2
   },
   "file_extension": ".py",
   "mimetype": "text/x-python",
   "name": "python",
   "nbconvert_exporter": "python",
   "pygments_lexer": "ipython2",
   "version": "2.7.12"
  }
 },
 "nbformat": 4,
 "nbformat_minor": 2
}
