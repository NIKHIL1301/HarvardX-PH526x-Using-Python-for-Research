{
 "cells": [
  {
   "cell_type": "markdown",
   "metadata": {},
   "source": [
    "## Sequences\n",
    "* Access using bracket notation, either left-to-right (positive index, eg. S[2]) or right-to-left (negative index, eg. S[-3])\n",
    "* Support slicing (eg. S[0:2]\n",
    "\n",
    "## Lists\n",
    "* Mutable sequences of objects of any time\n",
    "* Used to store homogenous items\n",
    "\n",
    "## Tuples\n",
    "* immutable sequences used to store heterogenous data\n",
    "* many uses"
   ]
  },
  {
   "cell_type": "code",
   "execution_count": 6,
   "metadata": {},
   "outputs": [
    {
     "name": "stdout",
     "output_type": "stream",
     "text": [
      "(0, 0)\n",
      "(1, 1)\n",
      "(2, 4)\n",
      "(4, 6)\n",
      "(8, 10)\n",
      "(12, 15)\n"
     ]
    },
    {
     "data": {
      "text/plain": [
       "tuple"
      ]
     },
     "execution_count": 6,
     "metadata": {},
     "output_type": "execute_result"
    }
   ],
   "source": [
    "# Lists\n",
    "numbers = [2,4,6,8]\n",
    "numbers[0] # => 2\n",
    "numbers[-1] # => 8\n",
    "numbers.append(10) # mutable, can modify content\n",
    "x = [12, 14, 16]\n",
    "numbers + x # concatenating lists\n",
    "type(_) # => returns most recent object type\n",
    "numbers.reverse() # => list methods work in place\n",
    "numbers # => numbers are now reversed\n",
    "names = ['Dan', 'Joe', 'Jimmy', 'Zany']\n",
    "names.sort()\n",
    "names # => names are now sorted alphabetically\n",
    "names.reverse() # => reverse order\n",
    "sorted_names = sorted(names) # => sorted creates a new sorted list\n",
    "len(names) # => returns length of names object\n",
    "\n",
    "# Tuples\n",
    "T = (1,3,5,7) # => create using parenthesis\n",
    "len(T) # => len works the same as lists\n",
    "T + (9, 11) # => concatenation works the same too\n",
    "T[1] # => indices work the same too\n",
    "x = 12.23\n",
    "y = 23.34\n",
    "coordinate = (x,y) # => tuple packing\n",
    "type(coordinate) # => tuple\n",
    "c1, c2 = coordinate # => unpacking a tuple\n",
    "coordinates = [(0,0),(1,1),(2,4),(4,6),(8,10),(12,15)] \n",
    "for (x,y) in coordinates: # can use tuples in for loops\n",
    "    print(x,y)\n",
    "c = (2,3)\n",
    "type(c) # => tuple\n",
    "c = (2)\n",
    "type(c) # => int\n",
    "c = ((2,)) # => create a tuple with a single object\n",
    "type(c) # => tuple"
   ]
  },
  {
   "cell_type": "code",
   "execution_count": null,
   "metadata": {
    "collapsed": true
   },
   "outputs": [],
   "source": []
  }
 ],
 "metadata": {
  "kernelspec": {
   "display_name": "Python 2",
   "language": "python",
   "name": "python2"
  },
  "language_info": {
   "codemirror_mode": {
    "name": "ipython",
    "version": 2
   },
   "file_extension": ".py",
   "mimetype": "text/x-python",
   "name": "python",
   "nbconvert_exporter": "python",
   "pygments_lexer": "ipython2",
   "version": "2.7.12"
  }
 },
 "nbformat": 4,
 "nbformat_minor": 2
}
